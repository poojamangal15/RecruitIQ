{
 "cells": [
  {
   "cell_type": "code",
   "execution_count": null,
   "id": "869a9381-54ab-464e-a5e6-7ffadc863e62",
   "metadata": {},
   "outputs": [],
   "source": []
  }
 ],
 "metadata": {
  "kernelspec": {
   "display_name": "",
   "name": ""
  },
  "language_info": {
   "name": ""
  }
 },
 "nbformat": 4,
 "nbformat_minor": 5
}

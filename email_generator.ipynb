{
 "cells": [
  {
   "cell_type": "code",
   "execution_count": null,
   "id": "869a9381-54ab-464e-a5e6-7ffadc863e62",
   "metadata": {},
   "outputs": [],
   "source": [
    "from langchain_groq import ChatGroq\n",
    "from langchain_core.messages import HumanMessage"
   ]
  },
  {
   "cell_type": "code",
   "execution_count": null,
   "id": "7e24b92f-3cd2-4b78-871f-18fb754533d6",
   "metadata": {},
   "outputs": [],
   "source": [
    "import os\n",
    "from dotenv import load_dotenv\n",
    "\n",
    "load_dotenv()  # this loads variables from .env into the environment\n",
    "\n",
    "groq_api_key = os.getenv(\"GROQ_API_KEY\")"
   ]
  },
  {
   "cell_type": "code",
   "execution_count": null,
   "id": "faf60663-98fb-4e2f-825f-256a6b731061",
   "metadata": {},
   "outputs": [],
   "source": [
    "\n",
    "llm = ChatGroq(\n",
    "    temperature=0,\n",
    "    groq_api_key=os.getenv(\"GROQ_API_KEY\"),\n",
    "    model_name=\"llama3-8b-8192\"\n",
    ")\n",
    "\n",
    "response = llm.invoke([\n",
    "    HumanMessage(content=\"Who was the first person to land on the moon?\")\n",
    "])\n",
    "\n",
    "print(response.content)"
   ]
  },
  {
   "cell_type": "code",
   "execution_count": null,
   "id": "8b68ef0b-11c2-4663-8f56-7d5e373a389d",
   "metadata": {},
   "outputs": [],
   "source": [
    "from langchain_community.document_loaders import WebBaseLoader\n",
    "\n",
    "loader = WebBaseLoader(\"https://careers.nike.com/sr-manager-product-management-inventory-flow-foundation-itc/job/R-66229\")\n",
    "page_data = loader.load().pop().page_content\n",
    "print(page_data)"
   ]
  },
  {
   "cell_type": "code",
   "execution_count": null,
   "id": "0696da74-319a-4d06-932a-f705007efcf1",
   "metadata": {},
   "outputs": [],
   "source": [
    "from langchain_core.prompts import PromptTemplate\n",
    "\n",
    "prompt_extract = PromptTemplate.from_template(\n",
    "    \"\"\"\n",
    "    ### SCRAPED TEXT FROM WEBSITE:\n",
    "    {page_data}\n",
    "    ### TASK:\n",
    "    Extract job postings in strict JSON format.\n",
    "    \n",
    "    Each object should include: `role`, `experience`, `skills`, and `description`.\n",
    "\n",
    "    Respond with **only valid JSON**. Do not include any commentary, explanations, or formatting. No Markdown, no bullet points, no backticks.\n",
    "\n",
    "    JSON only:\n",
    "    \"\"\"\n",
    ")\n",
    "\n",
    "\n",
    "\n",
    "chain_extract = prompt_extract | llm\n",
    "res = chain_extract.invoke(input={'page_data':page_data})\n",
    "print(res.content)"
   ]
  },
  {
   "cell_type": "code",
   "execution_count": null,
   "id": "4d01f266-d252-4336-80e1-429eaf53c320",
   "metadata": {},
   "outputs": [],
   "source": [
    "from langchain_core.output_parsers import JsonOutputParser\n",
    "\n",
    "json_parser = JsonOutputParser()\n",
    "json_res = json_parser.parse(res.content)\n",
    "json_res"
   ]
  },
  {
   "cell_type": "code",
   "execution_count": null,
   "id": "8af0c7b5-6b5a-4ae0-b6d4-8efa55f2f826",
   "metadata": {},
   "outputs": [],
   "source": [
    "import pandas as pd\n",
    "\n",
    "df = pd.read_csv(\"techstack_portfolios.csv\")\n",
    "df"
   ]
  },
  {
   "cell_type": "code",
   "execution_count": null,
   "id": "89787e99-1d6e-4d23-bf31-f70f11c83bdd",
   "metadata": {},
   "outputs": [],
   "source": [
    "import chromadb\n",
    "import uuid\n",
    "\n",
    "client = chromadb.PersistentClient('vectorstore')\n",
    "collection = client.get_or_create_collection(name='portfolio')\n",
    "\n",
    "if not collection.count():\n",
    "    for _, row in df.iterrows():\n",
    "            collection.add(documents=row[\"Techstack\"],\n",
    "                            metadatas={\"links\": row[\"Links\"]},\n",
    "                            ids=[str(uuid.uuid4())])"
   ]
  },
  {
   "cell_type": "code",
   "execution_count": null,
   "id": "3096a152-7ca6-4846-8972-178814fcefc3",
   "metadata": {},
   "outputs": [],
   "source": [
    "print(\"Total docs:\", collection.count())\n",
    "all_docs = collection.get(include=[\"documents\", \"metadatas\"])\n",
    "for doc, meta in zip(all_docs['documents'], all_docs['metadatas']):\n",
    "    print(f\"- {doc} -> {meta}\")\n"
   ]
  },
  {
   "cell_type": "code",
   "execution_count": null,
   "id": "6bba2504-7b71-4202-b1dc-e9661b62cc2b",
   "metadata": {},
   "outputs": [],
   "source": [
    "results = collection.query(query_texts=[\"Python\"], n_results=3)\n",
    "metadatas = results.get(\"metadatas\", [])\n",
    "\n",
    "for meta in metadatas:\n",
    "    print(meta)\n"
   ]
  },
  {
   "cell_type": "code",
   "execution_count": null,
   "id": "fbc71120-e21d-4bd3-be6b-63f40e5522d3",
   "metadata": {},
   "outputs": [],
   "source": [
    "job = json_res\n",
    "job['skills']"
   ]
  },
  {
   "cell_type": "code",
   "execution_count": null,
   "id": "3433edc4-c259-4a89-b9e3-fcabef08027f",
   "metadata": {},
   "outputs": [],
   "source": [
    "prompt_email = PromptTemplate.from_template(\n",
    "    \"\"\"\n",
    "    ### JOB DESCRIPTION:\n",
    "    {job_description}\n",
    "\n",
    "    ### INSTRUCTION:\n",
    "    You are Mohan, a Business Development Executive at AtliQ — an AI and software consulting firm that helps companies scale efficiently through intelligent automation, data systems, and digital solutions.\n",
    "\n",
    "    Your job is to write a concise, engaging cold email to the client regarding the job description above, clearly articulating how AtliQ’s expertise aligns with their needs.\n",
    "\n",
    "    In the second half of the email, naturally highlight relevant projects from AtliQ’s portfolio (choose from the following links: {link_list}). Do not just list them or format them like bullet points. Instead, weave them into the narrative by briefly describing what was done, the impact, and hyperlinking the project title.\n",
    "\n",
    "    You are not allowed to add a preamble or any explanation before or after the email. Return only the email.\n",
    "\n",
    "    ###EMAIL:\n",
    "    \"\"\"\n",
    ")\n",
    "\n",
    "\n",
    "chain_email = prompt_email | llm\n",
    "res = chain_email.invoke({\"job_description\": str(job), \"link_list\": links})\n",
    "print(res.content)"
   ]
  },
  {
   "cell_type": "code",
   "execution_count": null,
   "id": "a50ac3b9-b914-4a36-9768-a99c86a81562",
   "metadata": {},
   "outputs": [],
   "source": []
  }
 ],
 "metadata": {
  "kernelspec": {
   "display_name": "Python 3 (ipykernel)",
   "language": "python",
   "name": "python3"
  },
  "language_info": {
   "codemirror_mode": {
    "name": "ipython",
    "version": 3
   },
   "file_extension": ".py",
   "mimetype": "text/x-python",
   "name": "python",
   "nbconvert_exporter": "python",
   "pygments_lexer": "ipython3",
   "version": "3.12.2"
  }
 },
 "nbformat": 4,
 "nbformat_minor": 5
}
